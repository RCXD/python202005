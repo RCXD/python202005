{
 "cells": [
  {
   "cell_type": "markdown",
   "metadata": {},
   "source": [
    "'#'으로 시작하는 문장은 번역기가 번역하지 않는다. => 주석, 설명  \n",
    "주석은 프로그램을 실행하는데 아무런 영향을 미치지 않는다."
   ]
  },
  {
   "cell_type": "code",
   "execution_count": 10,
   "metadata": {
    "scrolled": true
   },
   "outputs": [
    {
     "name": "stdout",
     "output_type": "stream",
     "text": [
      "Hello Python\n",
      "안녕 파이썬\n",
      "제2외국어를 배운 호랑이가 '야옹' 했습니다.\n",
      "제2외국어를 배운 고양이가 \"어흥\" 했습니다.\n",
      "제2외국어를 배운 호랑이가 \"야옹\" 했습니다.\n",
      "제2외국어를 배운 고양이가 '어흥' 했습니다.\n",
      "======================================================================\n"
     ]
    }
   ],
   "source": [
    "# print() 함수는 인수로 지정된 데이터를 출력하고 줄을 바꾼다.\n",
    "# 파이썬은 문자열 데이터를 반드시 따옴표로 묶어줘야 한다.\n",
    "print(\"Hello Python\")\n",
    "print('안녕 파이썬')\n",
    "print(\"제2외국어를 배운 호랑이가 '야옹' 했습니다.\")\n",
    "print('제2외국어를 배운 고양이가 \"어흥\" 했습니다.')\n",
    "print(\"제2외국어를 배운 호랑이가 \\\"야옹\\\" 했습니다.\")\n",
    "print('제2외국어를 배운 고양이가 \\'어흥\\' 했습니다.')\n",
    "# 문자열을 출력할 때 '*' 연산자를 사용하면 문자열이 지정된 숫자 만큼 반복된다.\n",
    "print(\"=\" * 70)"
   ]
  },
  {
   "cell_type": "code",
   "execution_count": 12,
   "metadata": {},
   "outputs": [
    {
     "name": "stdout",
     "output_type": "stream",
     "text": [
      "Hello Python\n",
      "HelloPython\n"
     ]
    }
   ],
   "source": [
    "# print() 함수로 2개 이상의 데이터를 출력하려면 ','나 '+'로 구분해서 출력한다.\n",
    "# ','로 구분하면 데이터와 데이터 사이에 공백 한 칸이 생긴다.\n",
    "print('Hello', 'Python')\n",
    "# '+'로 구분하면 문자 데이터와 문자 데이터가 연결되서 출력된다.\n",
    "print('Hello' + 'Python')"
   ]
  },
  {
   "cell_type": "code",
   "execution_count": 19,
   "metadata": {},
   "outputs": [
    {
     "name": "stdout",
     "output_type": "stream",
     "text": [
      "Hello Python안녕 \n",
      "\n",
      "파이썬\n"
     ]
    }
   ],
   "source": [
    "# print() 함수에 end 옵션을 이용하면 print() 함수가 실행된 후 출력할 내용을 지정할 수 있다.\n",
    "# \\n => new line, 줄을 바꾼다. => end 옵션 생략시 기본값이다.\n",
    "# 'Hello Python'이라는 문자열을 출력한 다음에 end 옵션에 지정한 내용을 출력한다.\n",
    "print('Hello Python', end = '')\n",
    "print('안녕 \\n\\n파이썬')"
   ]
  },
  {
   "cell_type": "code",
   "execution_count": 26,
   "metadata": {},
   "outputs": [
    {
     "name": "stdout",
     "output_type": "stream",
     "text": [
      "  100\n",
      "    1\n",
      "1    \n",
      "00001\n",
      "10000\n"
     ]
    }
   ],
   "source": [
    "# 서식을 지정해 출력하기\n",
    "# 서식 문자(%d => 정수, %f => 실수, %s => 문자)를 사용해 출력 서식을 지정할 수 있다.\n",
    "# 출력 서식을 제외한 나머지 문자는 입력한 그대로 출력된다.\n",
    "# 출력 서식의 형식 => %[-][0][n][.m]서식문자 => [] 안의 옵션은 필요한 경우 사용한다.\n",
    "# - => 전체 자리수가 지정된 경우 왼쪽에 맞춰 출력한다.\n",
    "# 0 => 전체 자리수가 지정된 경우 왼쪽의 남는 자리에 '0'을 채워 출력한다. => 숫자에만 쓸 수 있다.\n",
    "# n => 전체 자리수\n",
    "# .m => 소수점 아래 자리수, 잘리는 자리에서 반올림해서 보여준다.\n",
    "\n",
    "# print('출력 서식' % 출력할 데이터) => 출력할 데이터가 2개 이상일 경우 ()로 묶어준다.\n",
    "print('%5d' % 100) # 남는 자리에는 공백이 채워진다.\n",
    "print('%5d' % 1)\n",
    "print('%-5d' % 1)\n",
    "print('%05d' % 1)\n",
    "print('%5d' % 10000)"
   ]
  },
  {
   "cell_type": "code",
   "execution_count": 31,
   "metadata": {},
   "outputs": [
    {
     "name": "stdout",
     "output_type": "stream",
     "text": [
      "  abc\n",
      "    a\n",
      "a    \n",
      "    a\n",
      "abcde\n"
     ]
    }
   ],
   "source": [
    "print('%5s' % 'abc')\n",
    "print('%5s' % 'a')\n",
    "print('%-5s' % 'a')\n",
    "print('%05s' % 'a') # '0'이 무시된다.\n",
    "print('%5s' % 'abcde')"
   ]
  },
  {
   "cell_type": "code",
   "execution_count": 36,
   "metadata": {},
   "outputs": [
    {
     "name": "stdout",
     "output_type": "stream",
     "text": [
      "123.45\n",
      "123.46\n",
      "123.40\n",
      "  60\n",
      "  60\n"
     ]
    }
   ],
   "source": [
    "print('%6.2f' % 123.45)\n",
    "print('%6.2f' % 123.456)\n",
    "print('%6.2f' % 123.4)\n",
    "print('%4.0f' % 60.4)\n",
    "print('%4.0f' % 59.5)"
   ]
  },
  {
   "cell_type": "code",
   "execution_count": 53,
   "metadata": {},
   "outputs": [
    {
     "name": "stdout",
     "output_type": "stream",
     "text": [
      "5 + 3 = 8\n",
      "5 - 3 = 2\n",
      "5 * 3 = 15\n",
      "5 / 3 = 1\n",
      "5 / 3 = 1.666667\n",
      "5 // 3 = 1\n",
      "5 // 3 = 1.000000\n",
      "5 % 3 = 2\n",
      "2의 10승 = 1024\n"
     ]
    }
   ],
   "source": [
    "print('%d + %d = %d' % (5, 3, 5 + 3)) # 덧셈\n",
    "print('%d - %d = %d' % (5, 3, 5 - 3)) # 뺄셈\n",
    "print('%d * %d = %d' % (5, 3, 5 * 3)) # 곱셈\n",
    "print('%d / %d = %d' % (5, 3, 5 / 3)) # 나눗셈\n",
    "print('%d / %d = %f' % (5, 3, 5 / 3))\n",
    "print('%d // %d = %d' % (5, 3, 5 // 3)) # 나눗셈 => 몫\n",
    "print('%d // %d = %f' % (5, 3, 5 // 3))\n",
    "# 정수 데이터의 나머지를 계산하려면 '%' 연산자를 사용해야 하고 서식을 지정해 출력할 때 '%' 문자\n",
    "# 자체를 출력하려면 '%'를 연속해서 2개 적어야 '%' 문자가 출력된다.\n",
    "print('%d %% %d = %d' % (5, 3, 5 % 3)) # 나눗셈 => 나머지\n",
    "print('%d의 %d승 = %d' % (2, 10, 2 ** 10)) # 거듭제곱"
   ]
  },
  {
   "cell_type": "code",
   "execution_count": 60,
   "metadata": {},
   "outputs": [
    {
     "name": "stdout",
     "output_type": "stream",
     "text": [
      "홍길동 바보\n",
      "홍길동 바보\n",
      "바보 홍길동\n",
      "홍길동 바보 홍길동\n"
     ]
    },
    {
     "ename": "IndexError",
     "evalue": "tuple index out of range",
     "output_type": "error",
     "traceback": [
      "\u001b[1;31m---------------------------------------------------------------------------\u001b[0m",
      "\u001b[1;31mIndexError\u001b[0m                                Traceback (most recent call last)",
      "\u001b[1;32m<ipython-input-60-2a222842a1eb>\u001b[0m in \u001b[0;36m<module>\u001b[1;34m\u001b[0m\n\u001b[0;32m      4\u001b[0m \u001b[0mprint\u001b[0m\u001b[1;33m(\u001b[0m\u001b[1;34m'{1} {0}'\u001b[0m\u001b[1;33m.\u001b[0m\u001b[0mformat\u001b[0m\u001b[1;33m(\u001b[0m\u001b[1;34m'홍길동'\u001b[0m\u001b[1;33m,\u001b[0m \u001b[1;34m'바보'\u001b[0m\u001b[1;33m)\u001b[0m\u001b[1;33m)\u001b[0m\u001b[1;33m\u001b[0m\u001b[1;33m\u001b[0m\u001b[0m\n\u001b[0;32m      5\u001b[0m \u001b[0mprint\u001b[0m\u001b[1;33m(\u001b[0m\u001b[1;34m'{0} {1} {0}'\u001b[0m\u001b[1;33m.\u001b[0m\u001b[0mformat\u001b[0m\u001b[1;33m(\u001b[0m\u001b[1;34m'홍길동'\u001b[0m\u001b[1;33m,\u001b[0m \u001b[1;34m'바보'\u001b[0m\u001b[1;33m,\u001b[0m \u001b[1;34m'멍청이'\u001b[0m\u001b[1;33m)\u001b[0m\u001b[1;33m)\u001b[0m\u001b[1;33m\u001b[0m\u001b[1;33m\u001b[0m\u001b[0m\n\u001b[1;32m----> 6\u001b[1;33m \u001b[0mprint\u001b[0m\u001b[1;33m(\u001b[0m\u001b[1;34m'{0} {1} {2}'\u001b[0m\u001b[1;33m.\u001b[0m\u001b[0mformat\u001b[0m\u001b[1;33m(\u001b[0m\u001b[1;34m'홍길동'\u001b[0m\u001b[1;33m,\u001b[0m \u001b[1;34m'바보'\u001b[0m\u001b[1;33m)\u001b[0m\u001b[1;33m)\u001b[0m\u001b[1;33m\u001b[0m\u001b[1;33m\u001b[0m\u001b[0m\n\u001b[0m",
      "\u001b[1;31mIndexError\u001b[0m: tuple index out of range"
     ]
    }
   ],
   "source": [
    "# format() 메소드와 인덱스를 사용해 출력하기 => 인덱스는 0부터 시작된다.\n",
    "print('{} {}'.format('홍길동', '바보'))\n",
    "print('{0} {1}'.format('홍길동', '바보'))\n",
    "print('{1} {0}'.format('홍길동', '바보'))\n",
    "print('{0} {1} {0}'.format('홍길동', '바보', '멍청이'))\n",
    "print('{0} {1} {2}'.format('홍길동', '바보')) # 에러 발생"
   ]
  },
  {
   "cell_type": "code",
   "execution_count": 63,
   "metadata": {},
   "outputs": [
    {
     "name": "stdout",
     "output_type": "stream",
     "text": [
      "홍길동님은 20살 입니다.\n",
      "홍길동       님은 020살 입니다.\n",
      "홍길동       님은 020살 입니다.\n"
     ]
    }
   ],
   "source": [
    "# format() 함수와 인덱스를 사용해 서식을 지정해서 출력하기\n",
    "# 인덱스 번호를 쓰고(생략 가능) 번호 뒤에 ':'를 찍고 서식을 지정한다. => '%'는 사용하지 않는다.\n",
    "print('{}님은 {}살 입니다.'.format('홍길동', 20))\n",
    "print('{0:10s}님은 {1:03d}살 입니다.'.format('홍길동', 20))\n",
    "print('{:10s}님은 {:03d}살 입니다.'.format('홍길동', 20))"
   ]
  },
  {
   "cell_type": "code",
   "execution_count": 68,
   "metadata": {},
   "outputs": [
    {
     "name": "stdout",
     "output_type": "stream",
     "text": [
      "hi        왼쪽 정렬\n",
      "hi        왼쪽 정렬\n",
      "        hi오른쪽 정렬\n",
      "    hi    오른쪽 정렬\n"
     ]
    }
   ],
   "source": [
    "# 문자열 정렬\n",
    "print('{0:10s}왼쪽 정렬'.format('hi')) # 왼쪽 정렬, 정렬 방식을 생략면 왼쪽으로 정렬된다.\n",
    "print('{0:<10s}왼쪽 정렬'.format('hi'))\n",
    "print('{0:>10s}오른쪽 정렬'.format('hi'))\n",
    "print('{0:^10s}오른쪽 정렬'.format('hi'))"
   ]
  },
  {
   "cell_type": "code",
   "execution_count": 69,
   "metadata": {},
   "outputs": [
    {
     "name": "stdout",
     "output_type": "stream",
     "text": [
      "hi________왼쪽 정렬\n",
      "________hi오른쪽 정렬\n",
      "____hi____오른쪽 정렬\n"
     ]
    }
   ],
   "source": [
    "# 남는 공백 채우기\n",
    "print('{0:_<10s}왼쪽 정렬'.format('hi'))\n",
    "print('{0:_>10s}오른쪽 정렬'.format('hi'))\n",
    "print('{0:_^10s}오른쪽 정렬'.format('hi'))"
   ]
  },
  {
   "cell_type": "code",
   "execution_count": 70,
   "metadata": {},
   "outputs": [
    {
     "name": "stdout",
     "output_type": "stream",
     "text": [
      "임꺽정님은 35살 입니다.\n"
     ]
    }
   ],
   "source": [
    "# f접두어를 사용하는 출력\n",
    "name = '임꺽정'\n",
    "age = 35\n",
    "print(f'{name}님은 {age}살 입니다.')"
   ]
  },
  {
   "cell_type": "code",
   "execution_count": null,
   "metadata": {},
   "outputs": [],
   "source": []
  },
  {
   "cell_type": "code",
   "execution_count": null,
   "metadata": {},
   "outputs": [],
   "source": []
  },
  {
   "cell_type": "code",
   "execution_count": null,
   "metadata": {},
   "outputs": [],
   "source": []
  },
  {
   "cell_type": "code",
   "execution_count": null,
   "metadata": {},
   "outputs": [],
   "source": []
  }
 ],
 "metadata": {
  "kernelspec": {
   "display_name": "Python 3",
   "language": "python",
   "name": "python3"
  },
  "language_info": {
   "codemirror_mode": {
    "name": "ipython",
    "version": 3
   },
   "file_extension": ".py",
   "mimetype": "text/x-python",
   "name": "python",
   "nbconvert_exporter": "python",
   "pygments_lexer": "ipython3",
   "version": "3.6.8"
  }
 },
 "nbformat": 4,
 "nbformat_minor": 4
}
