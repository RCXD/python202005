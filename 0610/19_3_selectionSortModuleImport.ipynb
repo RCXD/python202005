{
 "cells": [
  {
   "cell_type": "code",
   "execution_count": 1,
   "metadata": {},
   "outputs": [
    {
     "name": "stdout",
     "output_type": "stream",
     "text": [
      "오름차순 정렬 결과 : [1, 3, 4, 8, 9, 100]\n",
      "내림차순 정렬 결과 : [100, 9, 8, 4, 3, 1]\n"
     ]
    }
   ],
   "source": [
    "# import할 모듈이 현재 작업중인 프로그램이 위치한 폴더에 있으면 import 뒤에 모듈의 이름만\n",
    "# 적어주면 되지만 import할 모듈이 현재 폴더 아래의 폴더에 위치한 경우 폴더 이름에 \".\"을\n",
    "# 찍어 폴더이름.모듈이름과 같은 형태로 import 시켜야 한다.\n",
    "\n",
    "import libs.sortModule as sm\n",
    "\n",
    "data = [8, 3, 4, 9, 1, 100]\n",
    "data = sm.selectionSortAsc(data)\n",
    "print(\"오름차순 정렬 결과 : {}\".format(data))\n",
    "data = sm.selectionSortDesc(data)\n",
    "print(\"내림차순 정렬 결과 : {}\".format(data))"
   ]
  },
  {
   "cell_type": "code",
   "execution_count": null,
   "metadata": {},
   "outputs": [],
   "source": []
  },
  {
   "cell_type": "code",
   "execution_count": null,
   "metadata": {},
   "outputs": [],
   "source": []
  }
 ],
 "metadata": {
  "kernelspec": {
   "display_name": "Python 3",
   "language": "python",
   "name": "python3"
  },
  "language_info": {
   "codemirror_mode": {
    "name": "ipython",
    "version": 3
   },
   "file_extension": ".py",
   "mimetype": "text/x-python",
   "name": "python",
   "nbconvert_exporter": "python",
   "pygments_lexer": "ipython3",
   "version": "3.6.8"
  }
 },
 "nbformat": 4,
 "nbformat_minor": 4
}
