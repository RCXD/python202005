{
 "cells": [
  {
   "cell_type": "code",
   "execution_count": 6,
   "metadata": {},
   "outputs": [
    {
     "name": "stdout",
     "output_type": "stream",
     "text": [
      "오름차순 정렬 결과 : [1, 3, 4, 8, 9, 100]\n",
      "내림차순 정렬 결과 : [100, 9, 8, 4, 3, 1]\n"
     ]
    }
   ],
   "source": [
    "# 특정 모듈의 특정 함수나 메소드만 import 하려는 경우 또는 import한 함수 또는 메소드를\n",
    "# 마치 현재 프로그램에서 선언한 것 처럼 사용하려면 아래와 같이 하면된다.\n",
    "\n",
    "# from 모듈이름 import 함수이름\n",
    "# from sortModule import selectionSortAsc\n",
    "# from sortModule import selectionSortDesc\n",
    "\n",
    "# 위의 2문장은 같은 모듈에 있는 함수를 import 시키고 있기 때문에 아래와 같이 줄여서\n",
    "# 사용해도 된다.\n",
    "# from sortModule import selectionSortAsc, selectionSortDesc\n",
    "\n",
    "# 아래와 같이 import 시키면 특정 모듈의 모든 함수를 import 시킬 수 있다.\n",
    "from sortModule import *\n",
    "\n",
    "data = [8, 3, 4, 9, 1, 100]\n",
    "data = selectionSortAsc(data)\n",
    "print(\"오름차순 정렬 결과 : {}\".format(data))\n",
    "data = selectionSortDesc(data)\n",
    "print(\"내림차순 정렬 결과 : {}\".format(data))"
   ]
  },
  {
   "cell_type": "code",
   "execution_count": null,
   "metadata": {},
   "outputs": [],
   "source": []
  },
  {
   "cell_type": "code",
   "execution_count": null,
   "metadata": {},
   "outputs": [],
   "source": []
  }
 ],
 "metadata": {
  "kernelspec": {
   "display_name": "Python 3",
   "language": "python",
   "name": "python3"
  },
  "language_info": {
   "codemirror_mode": {
    "name": "ipython",
    "version": 3
   },
   "file_extension": ".py",
   "mimetype": "text/x-python",
   "name": "python",
   "nbconvert_exporter": "python",
   "pygments_lexer": "ipython3",
   "version": "3.6.8"
  }
 },
 "nbformat": 4,
 "nbformat_minor": 4
}
