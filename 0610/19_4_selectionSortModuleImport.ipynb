{
 "cells": [
  {
   "cell_type": "code",
   "execution_count": 2,
   "metadata": {},
   "outputs": [],
   "source": [
    "# import할 모듈이 특정 폴더에 있는 경우 sys 라이브러리를 import하고 import할 모듈이\n",
    "# 위치한 경로를 append() 메소드로 추가하면 된다.\n",
    "import sys\n",
    "# 소스 파일과 라이브러리가 같은 드라이브에 있으면 드라이브 이름을 생략할 수 있다.\n",
    "sys.path.append(\"d:/libs\")"
   ]
  },
  {
   "cell_type": "code",
   "execution_count": 4,
   "metadata": {},
   "outputs": [
    {
     "name": "stdout",
     "output_type": "stream",
     "text": [
      "오름차순 정렬 결과 : [1, 3, 4, 8, 9, 100]\n",
      "내림차순 정렬 결과 : [100, 9, 8, 4, 3, 1]\n"
     ]
    }
   ],
   "source": [
    "import sortModule as sm\n",
    "\n",
    "data = [8, 3, 4, 9, 1, 100]\n",
    "data = sm.selectionSortAsc(data)\n",
    "print(\"오름차순 정렬 결과 : {}\".format(data))\n",
    "data = sm.selectionSortDesc(data)\n",
    "print(\"내림차순 정렬 결과 : {}\".format(data))"
   ]
  },
  {
   "cell_type": "code",
   "execution_count": null,
   "metadata": {},
   "outputs": [],
   "source": []
  },
  {
   "cell_type": "code",
   "execution_count": null,
   "metadata": {},
   "outputs": [],
   "source": []
  }
 ],
 "metadata": {
  "kernelspec": {
   "display_name": "Python 3",
   "language": "python",
   "name": "python3"
  },
  "language_info": {
   "codemirror_mode": {
    "name": "ipython",
    "version": 3
   },
   "file_extension": ".py",
   "mimetype": "text/x-python",
   "name": "python",
   "nbconvert_exporter": "python",
   "pygments_lexer": "ipython3",
   "version": "3.6.8"
  }
 },
 "nbformat": 4,
 "nbformat_minor": 4
}
