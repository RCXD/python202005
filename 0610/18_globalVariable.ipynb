{
 "cells": [
  {
   "cell_type": "code",
   "execution_count": 3,
   "metadata": {},
   "outputs": [],
   "source": [
    "# 함수 내부에서 선언된 변수의 유효범위\n",
    "# 함수 외부에서 선언된 변수와 함수 내부에서 선언된 변수는 이름이 같더라도 다른 변수로\n",
    "# 취급된다.\n",
    "# 함수에서 선언된 변수는 그 함수에서만 사용할 수 있다.\n",
    "def func1(var1):\n",
    "    var1 += 1\n",
    "    print(\"func1() 함수 내부에서 선언한 변수 var1 = {}\". format(var1))"
   ]
  },
  {
   "cell_type": "code",
   "execution_count": 4,
   "metadata": {},
   "outputs": [
    {
     "name": "stdout",
     "output_type": "stream",
     "text": [
      "func1() 함수 내부에서 선언한 변수 var1 = 2\n",
      "func1() 함수 외부에서 선언한 변수 var1 = 1\n"
     ]
    }
   ],
   "source": [
    "var1 = 1\n",
    "func1(var1)\n",
    "print(\"func1() 함수 외부에서 선언한 변수 var1 = {}\". format(var1))"
   ]
  },
  {
   "cell_type": "code",
   "execution_count": 5,
   "metadata": {},
   "outputs": [],
   "source": [
    "# global 변수를 사용하면 함수 내부에서 함수 외부에서 선언된 변수의 값을 변경할 수 있다.\n",
    "# global 변수로 사용할 변수는 함수의 인수로 사용하면 안된다. => 선언하면 안된다.\n",
    "def func2():\n",
    "    # 함수 외부에서 선언한 var2 라는 변수를 함수 내부에서 사용한다는 의미이다.\n",
    "    global var2 # 함수 외부에서 선언한 변수를 함수 내부에서 변경이 가능해진다.\n",
    "    var2 += 1\n",
    "    print(\"func2() 함수 내부에서 선언한 변수 var2 = {}\". format(var2))"
   ]
  },
  {
   "cell_type": "code",
   "execution_count": 7,
   "metadata": {},
   "outputs": [
    {
     "name": "stdout",
     "output_type": "stream",
     "text": [
      "func2() 함수 내부에서 선언한 변수 var2 = 101\n",
      "func2() 함수 외부에서 선언한 변수 var2 = 101\n"
     ]
    }
   ],
   "source": [
    "var2 = 100\n",
    "func2()\n",
    "print(\"func2() 함수 외부에서 선언한 변수 var2 = {}\". format(var2))"
   ]
  },
  {
   "cell_type": "code",
   "execution_count": null,
   "metadata": {},
   "outputs": [],
   "source": []
  },
  {
   "cell_type": "code",
   "execution_count": null,
   "metadata": {},
   "outputs": [],
   "source": []
  },
  {
   "cell_type": "code",
   "execution_count": null,
   "metadata": {},
   "outputs": [],
   "source": []
  },
  {
   "cell_type": "code",
   "execution_count": null,
   "metadata": {},
   "outputs": [],
   "source": []
  },
  {
   "cell_type": "code",
   "execution_count": null,
   "metadata": {},
   "outputs": [],
   "source": []
  },
  {
   "cell_type": "code",
   "execution_count": null,
   "metadata": {},
   "outputs": [],
   "source": []
  }
 ],
 "metadata": {
  "kernelspec": {
   "display_name": "Python 3",
   "language": "python",
   "name": "python3"
  },
  "language_info": {
   "codemirror_mode": {
    "name": "ipython",
    "version": 3
   },
   "file_extension": ".py",
   "mimetype": "text/x-python",
   "name": "python",
   "nbconvert_exporter": "python",
   "pygments_lexer": "ipython3",
   "version": "3.6.8"
  }
 },
 "nbformat": 4,
 "nbformat_minor": 4
}
