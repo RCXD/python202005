{
 "cells": [
  {
   "cell_type": "markdown",
   "metadata": {},
   "source": [
    "함수의 구조  \n",
    "def 함수이름([인수, ...]): # 인수는 함수가 처리할 데이터로 필요없으면 생략 가능하다.  \n",
    "&nbsp;&nbsp;&nbsp;&nbsp;함수가 실행할 문장  \n",
    "&nbsp;&nbsp;&nbsp;&nbsp;...  \n",
    "&nbsp;&nbsp;&nbsp;&nbsp;[return 함수의 실행 결과] # 결과가 없으면 return은 생략 가능하다.\n"
   ]
  },
  {
   "cell_type": "code",
   "execution_count": 16,
   "metadata": {},
   "outputs": [],
   "source": [
    "# 가장 일반적인 함수의 모양\n",
    "# a, b 2개의 정수를 인수로 넘겨받아 덧셈을 실행하고 실행된 결과를 리턴하는 함수\n",
    "def add(a, b):\n",
    "    print(\"add() 함수가 실행됩니다.\")\n",
    "    print(\"a = {}, b = {}\".format(a, b))\n",
    "    c = a + b\n",
    "    print(\"{} + {} = {}\".format(a, b, c))\n",
    "    # return을 만나거나 함수가 종료되면 함수를 호출한곳으로 돌아간다.\n",
    "    # return 값은 현재 실행된 함수를 호출곳으로 반환한다.\n",
    "    return c"
   ]
  },
  {
   "cell_type": "code",
   "execution_count": 18,
   "metadata": {},
   "outputs": [
    {
     "name": "stdout",
     "output_type": "stream",
     "text": [
      "add() 함수가 실행됩니다.\n",
      "a = 5, b = 3\n",
      "5 + 3 = 8\n",
      "함수가 실행된 결과 : 8\n"
     ]
    }
   ],
   "source": [
    "# 함수를 실행하려면 실행하려는 함수의 이름을 적어주면 된다.\n",
    "print(\"함수가 실행된 결과 : {}\".format(add(5, 3)))"
   ]
  },
  {
   "cell_type": "code",
   "execution_count": 25,
   "metadata": {},
   "outputs": [],
   "source": [
    "# 입력값이 없는 함수, 처리할 데이터(인수)를 넘겨받지 않는 함수\n",
    "def func1():\n",
    "    print(\"호출된 함수에서 출력 => func1() 함수가 실행됩니다.\")\n",
    "    return \"func1() 함수가 실행됩니다.\""
   ]
  },
  {
   "cell_type": "code",
   "execution_count": 27,
   "metadata": {},
   "outputs": [
    {
     "name": "stdout",
     "output_type": "stream",
     "text": [
      "호출된 함수에서 출력 => func1() 함수가 실행됩니다.\n",
      "함수를 호출한 곳에서 출력 => func1() 함수가 실행됩니다.\n"
     ]
    }
   ],
   "source": [
    "print(\"함수를 호출한 곳에서 출력 => {}\".format(func1()))"
   ]
  },
  {
   "cell_type": "code",
   "execution_count": 40,
   "metadata": {},
   "outputs": [],
   "source": [
    "# 결과값이 없는 함수, return이 생략된 함수\n",
    "def func2(a, b):\n",
    "    print(\"호출된 함수에서 출력 => func2() 함수가 실행됩니다.\")\n",
    "    print(\"{} + {} = {}\".format(a, b, a + b))"
   ]
  },
  {
   "cell_type": "code",
   "execution_count": 41,
   "metadata": {},
   "outputs": [
    {
     "name": "stdout",
     "output_type": "stream",
     "text": [
      "호출된 함수에서 출력 => func2() 함수가 실행됩니다.\n",
      "7 + 4 = 11\n",
      "None\n"
     ]
    }
   ],
   "source": [
    "# 호출된 함수에 retuen이 없으면 돌아오는 값이 없으므로 출력하면 None이 출력된다.\n",
    "print(func2(7, 4))"
   ]
  },
  {
   "cell_type": "markdown",
   "metadata": {},
   "source": [
    "오버로딩 => 1개의 파일에서 같은 이름을 가지는 함수룰 여러개 만들어 사용할 수 있다.  \n",
    "오버로딩된 함수는 인수의 개수로 함수를 구별하고 인수의 개수도 같다면 인수의 데이터 타입으로 함수를 구별한다.  \n",
    "파이썬은 오버로딩을 지원하지 않는다. => 오버로딩 효과를 내기 위해 가변 인자를 가지는 함수를 만들어 사용한다."
   ]
  },
  {
   "cell_type": "code",
   "execution_count": 42,
   "metadata": {},
   "outputs": [],
   "source": [
    "# 파이썬은 같은 이름을 가지는 함수를 여러개 만들면 맨 마지막에 정의한 함수만 유효하고\n",
    "# 앞에 정의한 함수는 뒤에 정의한 함수로 덮어쓰기가 된다. => 무시된다.\n",
    "def func2(a, b, c):\n",
    "    print(\"호출된 함수에서 출력 => func2() 함수가 실행됩니다.\")\n",
    "    print(\"{} + {} + {} = {}\".format(a, b, c, a + b + c))"
   ]
  },
  {
   "cell_type": "code",
   "execution_count": 44,
   "metadata": {},
   "outputs": [
    {
     "name": "stdout",
     "output_type": "stream",
     "text": [
      "호출된 함수에서 출력 => func2() 함수가 실행됩니다.\n",
      "4 + 7 + 10 = 21\n"
     ]
    }
   ],
   "source": [
    "# func2(7, 4) # 에러 발생\n",
    "func2(4, 7, 10)"
   ]
  },
  {
   "cell_type": "code",
   "execution_count": 60,
   "metadata": {},
   "outputs": [],
   "source": [
    "# 인수의 개수가 가변적인 함수 => 가변 인수를 사용하는 함수 => 가변 인수는 *변수명 형태로\n",
    "# 사용한다.\n",
    "# 변수명 앞에 \"*\"을 붙여주면 가변 인수로 취급되고 넘어오는 데이터를 튜플로 받는다.\n",
    "def func3(*args):\n",
    "    print(\"func3() 함수가 실행됩니다.\")\n",
    "    print(type(args))\n",
    "    print(args)\n",
    "    print(\"func3() 함수로 넘어온 데이터의 개수 : {}\".format(len(args)))\n",
    "    \n",
    "    total = 0\n",
    "    for arg in args:\n",
    "        total += arg\n",
    "    return total"
   ]
  },
  {
   "cell_type": "code",
   "execution_count": 64,
   "metadata": {},
   "outputs": [
    {
     "name": "stdout",
     "output_type": "stream",
     "text": [
      "func3() 함수가 실행됩니다.\n",
      "<class 'tuple'>\n",
      "(1, 2, 3, 100, 5, 1000, 10000)\n",
      "func3() 함수로 넘어온 데이터의 개수 : 7\n",
      "11111\n"
     ]
    }
   ],
   "source": [
    "print(func3(1, 2, 3, 100, 5, 1000, 10000))"
   ]
  },
  {
   "cell_type": "code",
   "execution_count": 71,
   "metadata": {},
   "outputs": [],
   "source": [
    "# 디폴트 인수를 사용하는 함수 => 변수명 = 디폴트(기본)값\n",
    "# 함수가 호출될 때 인수가 넘어오면 넘어온 값으로 함수를 실행하고 인수가 넘어오지 않으면\n",
    "# 지정된 디폴트값으로 함수를 실행한다.\n",
    "def func4(a = 5, b = 8):\n",
    "    result = a - b\n",
    "    print(\"{} - {} = {}\".format(a, b, result))\n",
    "    return result"
   ]
  },
  {
   "cell_type": "code",
   "execution_count": 76,
   "metadata": {},
   "outputs": [
    {
     "name": "stdout",
     "output_type": "stream",
     "text": [
      "101 - 10 = 91\n",
      "91\n",
      "101 - 8 = 93\n",
      "93\n",
      "5 - 8 = -3\n",
      "-3\n",
      "5 - 999 = -994\n",
      "-994\n"
     ]
    }
   ],
   "source": [
    "print(func4(101, 10))\n",
    "print(func4(101))\n",
    "print(func4())\n",
    "# 함수를 호출할 때 인수로 전달되는 값을 직접 지정할 수 있다.\n",
    "print(func4(b = 999))"
   ]
  },
  {
   "cell_type": "code",
   "execution_count": 6,
   "metadata": {},
   "outputs": [],
   "source": [
    "# 넘겨받은 인수를 딕셔너리 형태로 반환하는 함수 => 딕셔너리 형태로 반환하는 함수는\n",
    "# 인수를 **변수명 형태로 사용한다.\n",
    "# 넘겨받은 인수를 딕셔너리 형태로 변환해서 \"**\"을 붙여준 변수에 저장한다.\n",
    "def func5(**args):\n",
    "    print(type(args))\n",
    "    print(args)\n",
    "    return args"
   ]
  },
  {
   "cell_type": "code",
   "execution_count": 9,
   "metadata": {},
   "outputs": [
    {
     "name": "stdout",
     "output_type": "stream",
     "text": [
      "<class 'dict'>\n",
      "{'apple': 1000}\n",
      "<class 'dict'>\n",
      "{'apple': 1000, 'banana': 2000}\n",
      "<class 'dict'>\n",
      "{'apple': 1000, 'banana': 2000, 'melon': 10000}\n"
     ]
    }
   ],
   "source": [
    "# \"**\"이 붙은 인수는 key = value 형태로 인수를 전달해야 한다.\n",
    "func5(apple = 1000)\n",
    "func5(apple = 1000, banana = 2000)\n",
    "func5(apple = 1000, banana = 2000, melon = 10000)"
   ]
  },
  {
   "cell_type": "code",
   "execution_count": 10,
   "metadata": {},
   "outputs": [],
   "source": [
    "# return을 튜플로 하면 return 값이 2개 이상인 것 같은 효과를 낸다.\n",
    "def func6(a, b):\n",
    "    temp = a;\n",
    "    a = b;\n",
    "    b = temp;\n",
    "    return a, b # return을 튜플 1개를 한다."
   ]
  },
  {
   "cell_type": "code",
   "execution_count": 13,
   "metadata": {},
   "outputs": [
    {
     "name": "stdout",
     "output_type": "stream",
     "text": [
      "a = 3, b = 4\n",
      "a = 4, b = 3\n",
      "a = 3, b = 4\n"
     ]
    }
   ],
   "source": [
    "a = 3\n",
    "b = 4\n",
    "print(\"a = {}, b = {}\".format(a, b))\n",
    "a, b = b, a\n",
    "print(\"a = {}, b = {}\".format(a, b))\n",
    "a, b = func6(a, b)\n",
    "print(\"a = {}, b = {}\".format(a, b))"
   ]
  },
  {
   "cell_type": "code",
   "execution_count": null,
   "metadata": {},
   "outputs": [],
   "source": []
  },
  {
   "cell_type": "code",
   "execution_count": null,
   "metadata": {},
   "outputs": [],
   "source": []
  },
  {
   "cell_type": "code",
   "execution_count": null,
   "metadata": {},
   "outputs": [],
   "source": []
  },
  {
   "cell_type": "code",
   "execution_count": null,
   "metadata": {},
   "outputs": [],
   "source": []
  }
 ],
 "metadata": {
  "kernelspec": {
   "display_name": "Python 3",
   "language": "python",
   "name": "python3"
  },
  "language_info": {
   "codemirror_mode": {
    "name": "ipython",
    "version": 3
   },
   "file_extension": ".py",
   "mimetype": "text/x-python",
   "name": "python",
   "nbconvert_exporter": "python",
   "pygments_lexer": "ipython3",
   "version": "3.6.8"
  }
 },
 "nbformat": 4,
 "nbformat_minor": 4
}
