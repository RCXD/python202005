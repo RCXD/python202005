{
 "cells": [
  {
   "cell_type": "markdown",
   "metadata": {},
   "source": [
    "if 명령의 형식  \n",
    "if 조건식:  \n",
    "&nbsp;&nbsp;&nbsp;&nbsp;조건식이 참일 경우 실행할 문장  \n",
    "&nbsp;&nbsp;&nbsp;&nbsp;...  \n",
    "else:  \n",
    "&nbsp;&nbsp;&nbsp;&nbsp;조건식이 거짓일 경우 실행할 문장  \n",
    "&nbsp;&nbsp;&nbsp;&nbsp;...  \n",
    "조건을 만족하지 않을 때 아무런 일도 하지 않는다면 else 이하를 생략할 수 있다."
   ]
  },
  {
   "cell_type": "code",
   "execution_count": 2,
   "metadata": {},
   "outputs": [],
   "source": [
    "# 관계(비교) 연산자 => 연산 결과는 무조건 참(True) 또는 거짓(False)이다.\n",
    "# >  : 크다, 초과\n",
    "# >= : 크거나 같다, 이상\n",
    "# <  : 작다, 미만\n",
    "# <= : 작거나 같다, 이하\n",
    "# == : 같다\n",
    "# != : 같지 않다.\n",
    "\n",
    "# 논리 연산자 => 연산 결과는 무조건 참(True) 또는 거짓(False)이다.\n",
    "# and : 논리곱, 두 조건이 모두 참일 경우에만 참, ~이고, ~이면서, ~중에서\n",
    "# or  : 논리합, 두 조건 중에서 한 개 이상 참일 경우에 참, ~이거나, ~또는\n",
    "# not : 논리 부정"
   ]
  },
  {
   "cell_type": "code",
   "execution_count": 9,
   "metadata": {},
   "outputs": [
    {
     "name": "stdout",
     "output_type": "stream",
     "text": [
      "나이를 입력하세요 : 19\n"
     ]
    }
   ],
   "source": [
    "age = int(input('나이를 입력하세요 : '))\n",
    "# print(type(age))\n",
    "if age >= 19:\n",
    "    # print('성인입니다. 어서오세요')\n",
    "    # 만약에 조건이 참일 경우 아무런 문장도 실행하지 않는다고 아무 문장도 입력하지 \n",
    "    # 않으면 에러가 발생된다. => 에러가 발생되지 않게 하려면 pass 명령을 실행하면 \n",
    "    # 된다.\n",
    "    pass\n",
    "else:\n",
    "    print('미성년자입니다. 애들은 가라~~~~~~')"
   ]
  },
  {
   "cell_type": "code",
   "execution_count": 18,
   "metadata": {},
   "outputs": [
    {
     "name": "stdout",
     "output_type": "stream",
     "text": [
      "주민등록번호 13자리를 \"-\"없이 입력하세요 : 8304221185600\n",
      "8304221185600\n",
      "1\n",
      "남자\n",
      "남자\n",
      "남자\n",
      "남자\n",
      "남자\n"
     ]
    }
   ],
   "source": [
    "jumin = input('주민등록번호 13자리를 \"-\"없이 입력하세요 : ')\n",
    "print(jumin)\n",
    "print(jumin[6])\n",
    "\n",
    "# 성별\n",
    "# if int(jumin[6]) == 1:\n",
    "if jumin[6] == '1' or jumin[6] == '3' or jumin[6] == '5':\n",
    "    print('남자')\n",
    "else:\n",
    "    print('여자')\n",
    "\n",
    "if jumin[6] in ('1', '3', '5'):\n",
    "    print('남자')\n",
    "else:\n",
    "    print('여자')\n",
    "    \n",
    "if int(jumin[6]) == 1 or int(jumin[6]) == 3 or int(jumin[6]) == 5:\n",
    "    print('남자')\n",
    "else:\n",
    "    print('여자')\n",
    "    \n",
    "if int(jumin[6]) in (1, 3, 5):\n",
    "    print('남자')\n",
    "else:\n",
    "    print('여자')\n",
    "    \n",
    "if int(jumin[6]) % 2 == 1:\n",
    "    print('남자')\n",
    "else:\n",
    "    print('여자')"
   ]
  },
  {
   "cell_type": "code",
   "execution_count": 26,
   "metadata": {},
   "outputs": [
    {
     "name": "stdout",
     "output_type": "stream",
     "text": [
      "주민등록번호 13자리를 \"-\"없이 입력하세요 : 0304224185600\n",
      "03\n",
      "2003\n",
      "당신의 출생년도는 2003년 이고 당신은 17살 입니다.\n"
     ]
    }
   ],
   "source": [
    "jumin = input('주민등록번호 13자리를 \"-\"없이 입력하세요 : ')\n",
    "\n",
    "# 나이\n",
    "print(jumin[:2])\n",
    "year = int(jumin[:2])\n",
    "\n",
    "'''\n",
    "if jumin[6] <= '2':\n",
    "    year = year + 1900\n",
    "else:\n",
    "    year += 2000\n",
    "'''\n",
    "\n",
    "# if문의 조건 비교 결과 참이나 거짓일 때 실행할 문장이 각각 1문장일 경우 삼항 \n",
    "# 연산자를 사용해서 처리할 수 있다.\n",
    "# 형식 => 조건이 참일 때 실행할 문장 if 조건식 else 조건이 거짓일 경우 실행할 문장\n",
    "# c, c++, c#, java => year += if jumin[6] <= '2' ? 1900 : 2000\n",
    "year += 1900 if jumin[6] <= '2' else 2000\n",
    "\n",
    "print(year)\n",
    "\n",
    "print('당신의 출생년도는 {}년 이고 당신은 {}살 입니다.'.format(year, 2020 - year))"
   ]
  },
  {
   "cell_type": "code",
   "execution_count": 39,
   "metadata": {},
   "outputs": [
    {
     "name": "stdout",
     "output_type": "stream",
     "text": [
      "3과목 점수를 입력하세요 : 60 60 59\n",
      "총점 : 179점, 평균 :  59.7\n",
      "평균 :  59.7, 등급 : F\n"
     ]
    }
   ],
   "source": [
    "# 3과목 점수를 한 번에 입력받아 평균을 계산한 후 A, B, C, D, F를 출력한다.\n",
    "python, java, android = map(int, input('3과목 점수를 입력하세요 : ').split())\n",
    "# print(type((python, java, android)))\n",
    "total = python + java + android\n",
    "average = total / 3\n",
    "print('총점 : {0:3d}점, 평균 : {1:5.1f}'.format(total, average))\n",
    "\n",
    "# 파이썬은 아래와 같이 주석으로 처리한 비교를 허용한다.\n",
    "# if 80 <= average < 90:\n",
    "    # print('평균 : {0:5.1f}, 등급 : B'.format(average))\n",
    "\n",
    "if average >= 90:\n",
    "    print('평균 : {0:5.1f}, 등급 : A'.format(average))\n",
    "elif 80 <= average:\n",
    "    print('평균 : {0:5.1f}, 등급 : B'.format(average))\n",
    "elif 70 <= average and average < 80:\n",
    "    print('평균 : {0:5.1f}, 등급 : C'.format(average))\n",
    "elif 60 <= average and average < 70:\n",
    "    print('평균 : {0:5.1f}, 등급 : D'.format(average))\n",
    "elif average < 60:\n",
    "    print('평균 : {0:5.1f}, 등급 : F'.format(average))"
   ]
  },
  {
   "cell_type": "code",
   "execution_count": 44,
   "metadata": {},
   "outputs": [
    {
     "name": "stdout",
     "output_type": "stream",
     "text": [
      "윤년, 평년을 판별할 년도를 입력하세요 : 2100\n",
      "2100년은 평년입니다.\n"
     ]
    }
   ],
   "source": [
    "# 윤년, 평년 판별식\n",
    "# 년도가 4로 나눠 떨어지고(and) 100으로 나눠 떨어지지 않거나(or) 400으로 나눠 떨어지면\n",
    "# 윤년, 그렇치 않으면 평년\n",
    "\n",
    "year = int(input('윤년, 평년을 판별할 년도를 입력하세요 : '))\n",
    "if year % 4 == 0 and year % 100 != 0 or year % 400 == 0:\n",
    "    print('{}년은 윤년입니다.'.format(year))\n",
    "else:\n",
    "    print('{}년은 평년입니다.'.format(year))"
   ]
  },
  {
   "cell_type": "code",
   "execution_count": null,
   "metadata": {},
   "outputs": [],
   "source": []
  },
  {
   "cell_type": "code",
   "execution_count": null,
   "metadata": {},
   "outputs": [],
   "source": []
  },
  {
   "cell_type": "code",
   "execution_count": null,
   "metadata": {},
   "outputs": [],
   "source": []
  },
  {
   "cell_type": "code",
   "execution_count": null,
   "metadata": {},
   "outputs": [],
   "source": []
  },
  {
   "cell_type": "code",
   "execution_count": null,
   "metadata": {},
   "outputs": [],
   "source": []
  },
  {
   "cell_type": "code",
   "execution_count": null,
   "metadata": {},
   "outputs": [],
   "source": []
  },
  {
   "cell_type": "code",
   "execution_count": null,
   "metadata": {},
   "outputs": [],
   "source": []
  }
 ],
 "metadata": {
  "kernelspec": {
   "display_name": "Python 3",
   "language": "python",
   "name": "python3"
  },
  "language_info": {
   "codemirror_mode": {
    "name": "ipython",
    "version": 3
   },
   "file_extension": ".py",
   "mimetype": "text/x-python",
   "name": "python",
   "nbconvert_exporter": "python",
   "pygments_lexer": "ipython3",
   "version": "3.6.8"
  }
 },
 "nbformat": 4,
 "nbformat_minor": 4
}
